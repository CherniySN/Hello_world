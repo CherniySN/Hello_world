{
 "cells": [
  {
   "cell_type": "markdown",
   "id": "66d4608f",
   "metadata": {},
   "source": [
    "# Обьектно-ориентированное програмирование"
   ]
  },
  {
   "cell_type": "markdown",
   "id": "62c0aa29",
   "metadata": {},
   "source": [
    "Главная цель - предоставление возможности написания кода, наиболее близкого к образу мышления человека."
   ]
  },
  {
   "cell_type": "code",
   "execution_count": 34,
   "id": "ec4af383",
   "metadata": {},
   "outputs": [],
   "source": [
    "class Auto:\n",
    "    def __init__(self):\n",
    "        self.sped = 0\n",
    "        self.clor = 'Red'\n",
    "        self.tires = 4\n",
    "        \n",
    "    def go(self):\n",
    "        self.sped = 120\n",
    "        print(\"Машина поехала, скорость: \", self.sped)"
   ]
  },
  {
   "cell_type": "code",
   "execution_count": 35,
   "id": "37c17a92",
   "metadata": {},
   "outputs": [],
   "source": [
    "vaz2110 = Auto()"
   ]
  },
  {
   "cell_type": "code",
   "execution_count": 36,
   "id": "7de9dde6",
   "metadata": {},
   "outputs": [],
   "source": [
    "vaz2110.clor = 'Blue'"
   ]
  },
  {
   "cell_type": "code",
   "execution_count": 37,
   "id": "941070c1",
   "metadata": {},
   "outputs": [
    {
     "data": {
      "text/plain": [
       "'Blue'"
      ]
     },
     "execution_count": 37,
     "metadata": {},
     "output_type": "execute_result"
    }
   ],
   "source": [
    "vaz2110.clor"
   ]
  },
  {
   "cell_type": "code",
   "execution_count": 38,
   "id": "a383b066",
   "metadata": {},
   "outputs": [],
   "source": [
    "vaz2106 = Auto()"
   ]
  },
  {
   "cell_type": "code",
   "execution_count": 39,
   "id": "40915c42",
   "metadata": {},
   "outputs": [
    {
     "data": {
      "text/plain": [
       "'Red'"
      ]
     },
     "execution_count": 39,
     "metadata": {},
     "output_type": "execute_result"
    }
   ],
   "source": [
    "vaz2106.clor"
   ]
  },
  {
   "cell_type": "code",
   "execution_count": 40,
   "id": "3065d83c",
   "metadata": {},
   "outputs": [
    {
     "name": "stdout",
     "output_type": "stream",
     "text": [
      "Машина поехала, скорость:  120\n"
     ]
    }
   ],
   "source": [
    "vaz2110.go()"
   ]
  },
  {
   "cell_type": "code",
   "execution_count": 41,
   "id": "63519fe6",
   "metadata": {},
   "outputs": [
    {
     "data": {
      "text/plain": [
       "120"
      ]
     },
     "execution_count": 41,
     "metadata": {},
     "output_type": "execute_result"
    }
   ],
   "source": [
    "vaz2110.sped"
   ]
  },
  {
   "cell_type": "markdown",
   "id": "bf766ee3",
   "metadata": {},
   "source": [
    "* Класс (class) - это тип данных. В питоне тип и класс в большинстве случаеев являются синонимами. \n",
    "* Обьект (object) - это экземпляр (instance) класса. "
   ]
  },
  {
   "cell_type": "code",
   "execution_count": 42,
   "id": "e74068c6",
   "metadata": {},
   "outputs": [],
   "source": [
    "mylist = []"
   ]
  },
  {
   "cell_type": "code",
   "execution_count": 43,
   "id": "d9ae3067",
   "metadata": {},
   "outputs": [
    {
     "data": {
      "text/plain": [
       "True"
      ]
     },
     "execution_count": 43,
     "metadata": {},
     "output_type": "execute_result"
    }
   ],
   "source": [
    "isinstance(mylist, list)"
   ]
  },
  {
   "cell_type": "code",
   "execution_count": 46,
   "id": "225e0ffb",
   "metadata": {},
   "outputs": [
    {
     "name": "stdout",
     "output_type": "stream",
     "text": [
      "<class 'list'>\n"
     ]
    }
   ],
   "source": [
    "print(type(mylist))"
   ]
  },
  {
   "cell_type": "code",
   "execution_count": 47,
   "id": "fcca730d",
   "metadata": {},
   "outputs": [],
   "source": [
    "def foo():\n",
    "    return 0"
   ]
  },
  {
   "cell_type": "code",
   "execution_count": 48,
   "id": "6af521af",
   "metadata": {},
   "outputs": [
    {
     "name": "stdout",
     "output_type": "stream",
     "text": [
      "<class 'function'>\n"
     ]
    }
   ],
   "source": [
    "print(type(foo))"
   ]
  },
  {
   "cell_type": "code",
   "execution_count": 52,
   "id": "50307a05",
   "metadata": {},
   "outputs": [],
   "source": [
    "def gen(n):\n",
    "    for i in range(n):\n",
    "        yield i"
   ]
  },
  {
   "cell_type": "code",
   "execution_count": 53,
   "id": "7ab79800",
   "metadata": {},
   "outputs": [
    {
     "name": "stdout",
     "output_type": "stream",
     "text": [
      "<class 'generator'>\n"
     ]
    }
   ],
   "source": [
    "print(type(gen(10)))"
   ]
  }
 ],
 "metadata": {
  "kernelspec": {
   "display_name": "Python 3 (ipykernel)",
   "language": "python",
   "name": "python3"
  },
  "language_info": {
   "codemirror_mode": {
    "name": "ipython",
    "version": 3
   },
   "file_extension": ".py",
   "mimetype": "text/x-python",
   "name": "python",
   "nbconvert_exporter": "python",
   "pygments_lexer": "ipython3",
   "version": "3.10.9"
  }
 },
 "nbformat": 4,
 "nbformat_minor": 5
}
